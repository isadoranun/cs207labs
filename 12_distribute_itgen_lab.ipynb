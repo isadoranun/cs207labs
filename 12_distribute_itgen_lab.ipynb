{
 "cells": [
  {
   "cell_type": "markdown",
   "metadata": {
    "collapsed": true
   },
   "source": [
    "## Q1.\n",
    "\n",
    "Add methods `__iter__` to your project Time Series class to iterate over values, a method `itertimes` to iterate over times, a method `itervalues` to iterate over values, and a method `iteritems` to iterate over time-value pairs. (This is a similar interface to python dictionaries). To test these, check both the types of the results and the answers you expect."
   ]
  },
  {
   "cell_type": "code",
   "execution_count": 1,
   "metadata": {
    "collapsed": true
   },
   "outputs": [],
   "source": [
    "#your code here\n"
   ]
  },
  {
   "cell_type": "markdown",
   "metadata": {},
   "source": [
    "## Q2.\n",
    "\n",
    "An online mean and standard deviation algorithm.\n",
    "\n",
    "Below is a function to generate a potentially infinite stream of 1-D data."
   ]
  },
  {
   "cell_type": "code",
   "execution_count": 1,
   "metadata": {
    "collapsed": false
   },
   "outputs": [],
   "source": [
    "from random import normalvariate, random\n",
    "from itertools import count\n",
    "def make_data(m, stop=None):\n",
    "    for _ in count():\n",
    "        if stop and _ > stop:\n",
    "            break\n",
    "        yield 1.0e09 + normalvariate(0, m*random() )\n",
    "        "
   ]
  },
  {
   "cell_type": "markdown",
   "metadata": {},
   "source": [
    "Here is an implementation of an online mean algorithm..see http://www.johndcook.com/blog/standard_deviation/ and the link to http://www.johndcook.com/blog/2008/09/26/comparing-three-methods-of-computing-standard-deviation/ in-between. (Convince yourselves of the formulas...)"
   ]
  },
  {
   "cell_type": "code",
   "execution_count": 2,
   "metadata": {
    "collapsed": true
   },
   "outputs": [],
   "source": [
    "def online_mean(iterator):\n",
    "    n = 0\n",
    "    mu = 0\n",
    "    for value in iterator:\n",
    "        n += 1\n",
    "        delta = value - mu\n",
    "        mu = mu + delta/n\n",
    "        yield mu"
   ]
  },
  {
   "cell_type": "markdown",
   "metadata": {},
   "source": [
    "We use out generator functions to implement iterators:"
   ]
  },
  {
   "cell_type": "code",
   "execution_count": 27,
   "metadata": {
    "collapsed": false
   },
   "outputs": [
    {
     "data": {
      "text/plain": [
       "[999999999.8979864,\n",
       " 1000000004.7052081,\n",
       " 999999999.3375891,\n",
       " 999999993.4103054,\n",
       " 1000000003.0717053,\n",
       " 1000000002.0171043,\n",
       " 1000000004.1583248,\n",
       " 1000000002.3734239,\n",
       " 1000000000.2192163,\n",
       " 999999999.7236252,\n",
       " 999999999.7616198]"
      ]
     },
     "execution_count": 27,
     "metadata": {},
     "output_type": "execute_result"
    }
   ],
   "source": [
    "g = make_data(5, 10)\n",
    "list(g)"
   ]
  },
  {
   "cell_type": "code",
   "execution_count": 5,
   "metadata": {
    "collapsed": false
   },
   "outputs": [
    {
     "name": "stdout",
     "output_type": "stream",
     "text": [
      "<class 'generator'>\n"
     ]
    },
    {
     "data": {
      "text/plain": [
       "[1000000004.8620105,\n",
       " 1000000002.0241961,\n",
       " 1000000001.3887969,\n",
       " 1000000001.1003666,\n",
       " 1000000001.5273584,\n",
       " 1000000001.2801799,\n",
       " 1000000001.2685615,\n",
       " 1000000001.3385491,\n",
       " 1000000001.2621979,\n",
       " 1000000001.2276483,\n",
       " 1000000000.6857018,\n",
       " 1000000000.6189383,\n",
       " 1000000000.430508,\n",
       " 1000000000.5606848,\n",
       " 1000000000.6328887,\n",
       " 1000000000.6879442,\n",
       " 1000000000.6449937,\n",
       " 1000000000.6270849,\n",
       " 1000000000.5959257,\n",
       " 1000000000.6022533,\n",
       " 1000000000.6465746,\n",
       " 1000000000.6815833,\n",
       " 1000000000.6383125,\n",
       " 1000000000.691703,\n",
       " 1000000000.7164993,\n",
       " 1000000000.6624789,\n",
       " 1000000000.8695464,\n",
       " 1000000000.8481997,\n",
       " 1000000000.9888165,\n",
       " 1000000000.9767468,\n",
       " 1000000000.8017282,\n",
       " 1000000000.759307,\n",
       " 1000000000.7913662,\n",
       " 1000000000.8496752,\n",
       " 1000000000.7700454,\n",
       " 1000000000.6941131,\n",
       " 1000000000.6313045,\n",
       " 1000000000.5900815,\n",
       " 1000000000.650765,\n",
       " 1000000000.684251,\n",
       " 1000000000.6806076,\n",
       " 1000000000.615181,\n",
       " 1000000000.64058,\n",
       " 1000000000.6316932,\n",
       " 1000000000.6041749,\n",
       " 1000000000.494791,\n",
       " 1000000000.4891216,\n",
       " 1000000000.4410318,\n",
       " 1000000000.3868084,\n",
       " 1000000000.3229525,\n",
       " 1000000000.17374,\n",
       " 1000000000.2270923,\n",
       " 1000000000.2256471,\n",
       " 1000000000.2133292,\n",
       " 1000000000.0837687,\n",
       " 1000000000.072842,\n",
       " 1000000000.1358098,\n",
       " 1000000000.1127452,\n",
       " 1000000000.1032761,\n",
       " 1000000000.1448537,\n",
       " 1000000000.1874938,\n",
       " 1000000000.2084166,\n",
       " 1000000000.261038,\n",
       " 1000000000.31433,\n",
       " 1000000000.3465194,\n",
       " 1000000000.3925985,\n",
       " 1000000000.3680646,\n",
       " 1000000000.3403158,\n",
       " 1000000000.3222163,\n",
       " 1000000000.4310335,\n",
       " 1000000000.42756,\n",
       " 1000000000.4235703,\n",
       " 1000000000.4387645,\n",
       " 1000000000.4549046,\n",
       " 1000000000.3557152,\n",
       " 1000000000.3795809,\n",
       " 1000000000.3120811,\n",
       " 1000000000.2535388,\n",
       " 1000000000.2890775,\n",
       " 1000000000.2571998,\n",
       " 1000000000.2868904,\n",
       " 1000000000.2738317,\n",
       " 1000000000.2655754,\n",
       " 1000000000.1597788,\n",
       " 1000000000.1532285,\n",
       " 1000000000.1099981,\n",
       " 1000000000.1255022,\n",
       " 1000000000.1136503,\n",
       " 1000000000.0934488,\n",
       " 1000000000.1323204,\n",
       " 1000000000.1313835,\n",
       " 1000000000.1158174,\n",
       " 1000000000.1403234,\n",
       " 1000000000.1071781,\n",
       " 1000000000.1061202,\n",
       " 1000000000.1398019,\n",
       " 1000000000.1113834,\n",
       " 1000000000.0912548,\n",
       " 1000000000.0877908,\n",
       " 1000000000.0848855,\n",
       " 1000000000.0955088]"
      ]
     },
     "execution_count": 5,
     "metadata": {},
     "output_type": "execute_result"
    }
   ],
   "source": [
    "g = online_mean(make_data(5, 100))\n",
    "print(type(g))\n",
    "list(g)"
   ]
  },
  {
   "cell_type": "markdown",
   "metadata": {},
   "source": [
    "### 2.1\n",
    "\n",
    "Implement the standard deviation algorithm as a generator function as\n",
    "\n",
    "```python\n",
    "def online_mean_dev(iterator):\n",
    "    BLA BLA\n",
    "    if n > 1:\n",
    "        stddev = math.sqrt(dev_accum/(n-1))\n",
    "        yield (n, value, mu, stddev)\n",
    "```"
   ]
  },
  {
   "cell_type": "code",
   "execution_count": 96,
   "metadata": {
    "collapsed": false
   },
   "outputs": [],
   "source": [
    "# your code here\n",
    "import math\n",
    "import numpy as np\n",
    "\n",
    "def online_mean_dev(iterator):\n",
    "    n = 1\n",
    "    mu = 0 \n",
    "    dev_accum = 0\n",
    "    stddev = np.nan\n",
    "    for value in iterator:\n",
    "        delta = value - mu\n",
    "        mu = mu + delta/n\n",
    "        dev_accum += (value - mu)**2\n",
    "        if n > 1:    \n",
    "            stddev = math.sqrt(dev_accum/(n-1))\n",
    "        yield (n, value, mu, stddev)\n",
    "        n += 1"
   ]
  },
  {
   "cell_type": "markdown",
   "metadata": {},
   "source": [
    "Here we make 100000 element data, and run this iterator on it (imagine running this on a time-series being slowly read from disk"
   ]
  },
  {
   "cell_type": "code",
   "execution_count": 97,
   "metadata": {
    "collapsed": true
   },
   "outputs": [],
   "source": [
    "data_with_stats = online_mean_dev(make_data(5, 100000))"
   ]
  },
  {
   "cell_type": "markdown",
   "metadata": {},
   "source": [
    "## Q3.\n",
    "\n",
    "Let's do Anomaly detection. Write a routine `is_ok`:\n",
    "\n",
    "```python\n",
    "def is_ok(level, t)\n",
    "```\n",
    "\n",
    "which takes a tuple like the one yielded by your code above and returns True if the value is inbetween `level`-$\\sigma$ of the mean."
   ]
  },
  {
   "cell_type": "code",
   "execution_count": 98,
   "metadata": {
    "collapsed": false
   },
   "outputs": [],
   "source": [
    "#your code here\n",
    "def is_ok(level, t):\n",
    "    if np.abs(t[1]-t[2])/t[3] < level:\n",
    "        return True"
   ]
  },
  {
   "cell_type": "markdown",
   "metadata": {},
   "source": [
    "We use this function to create a predicate passed through to `itertools.filterfalse` which is then used to obtain an iterator on the anomalies."
   ]
  },
  {
   "cell_type": "code",
   "execution_count": 99,
   "metadata": {
    "collapsed": true
   },
   "outputs": [],
   "source": [
    "from itertools import filterfalse\n",
    "pred = lambda t: is_ok(5, t)\n",
    "anomalies = filterfalse(pred, list(data_with_stats))"
   ]
  },
  {
   "cell_type": "markdown",
   "metadata": {},
   "source": [
    "We materialize the anomalies..."
   ]
  },
  {
   "cell_type": "code",
   "execution_count": 100,
   "metadata": {
    "collapsed": false
   },
   "outputs": [
    {
     "data": {
      "text/plain": [
       "[(1, 1000000001.9179087, 1000000001.9179087, nan),\n",
       " (6383, 1000000014.994646, 1000000000.0006934, 2.8144615482098523),\n",
       " (7878, 1000000015.2353746, 1000000000.0039496, 2.8147031976729346),\n",
       " (11604, 1000000014.9912527, 1000000000.039969, 2.8378875607442344),\n",
       " (14341, 999999985.7664379, 1000000000.0612235, 2.821197248486268),\n",
       " (14867, 1000000016.7098643, 1000000000.0483481, 2.8309315220262055),\n",
       " (15167, 999999985.2206017, 1000000000.0474732, 2.8307767137928437),\n",
       " (15363, 999999984.1827582, 1000000000.0444572, 2.8345800505676375),\n",
       " (18456, 1000000017.2355269, 1000000000.0321716, 2.845078574893959),\n",
       " (27623, 1000000014.2942101, 1000000000.0212021, 2.845948126291442),\n",
       " (27866, 999999984.7801061, 1000000000.0250461, 2.8478582132032706),\n",
       " (29020, 999999985.2117698, 1000000000.0238507, 2.854080311418395),\n",
       " (30816, 1000000014.5256214, 1000000000.0208899, 2.857404183704058),\n",
       " (36277, 999999979.555514, 1000000000.0040451, 2.8571896606153153),\n",
       " (37078, 1000000014.5571408, 1000000000.0056968, 2.8579360919580865),\n",
       " (38728, 1000000014.4720279, 1000000000.0047885, 2.8579972459557736),\n",
       " (47158, 1000000015.6140484, 1000000000.0075045, 2.8657752410051507),\n",
       " (50157, 999999984.8680373, 1000000000.0121814, 2.8775202856777367),\n",
       " (54098, 1000000014.9491243, 1000000000.0143452, 2.8825563805647025),\n",
       " (55181, 999999982.2015731, 1000000000.0124232, 2.8820021783325274),\n",
       " (55242, 999999982.3059901, 1000000000.0119336, 2.8826984559362603),\n",
       " (57563, 1000000014.8689511, 1000000000.0121069, 2.8821197652788038),\n",
       " (60025, 1000000014.5057614, 1000000000.0107381, 2.884908751427604),\n",
       " (61168, 1000000014.9989812, 1000000000.0124199, 2.886367056138104),\n",
       " (62113, 1000000016.7237387, 1000000000.011578, 2.8850564858562397),\n",
       " (63365, 1000000016.6754112, 1000000000.0092161, 2.8841247629889257),\n",
       " (66440, 999999985.2909062, 1000000000.0103276, 2.884648922161127),\n",
       " (67505, 1000000015.6902633, 1000000000.0096735, 2.885505431718968),\n",
       " (67848, 999999983.7347243, 1000000000.0097035, 2.8867220395355715),\n",
       " (68715, 999999985.2836311, 1000000000.0100583, 2.887480558320542),\n",
       " (69649, 999999984.5471449, 1000000000.0109727, 2.8888466899096974),\n",
       " (72122, 999999985.1485369, 1000000000.0109736, 2.891117615071908),\n",
       " (73392, 1000000018.6037134, 1000000000.0090632, 2.89134852660955),\n",
       " (75138, 1000000021.7165022, 1000000000.0094266, 2.8926864612735823),\n",
       " (76551, 1000000015.1901878, 1000000000.009484, 2.8941123148707564),\n",
       " (81399, 1000000014.8951364, 1000000000.0089732, 2.894092338151141),\n",
       " (88250, 1000000019.6233164, 1000000000.0076953, 2.890167746594214),\n",
       " (88483, 999999982.5928468, 1000000000.0068706, 2.890653391300411),\n",
       " (95197, 999999984.2407199, 1000000000.0021169, 2.887833570857853)]"
      ]
     },
     "execution_count": 100,
     "metadata": {},
     "output_type": "execute_result"
    }
   ],
   "source": [
    "list(anomalies)#materialize"
   ]
  },
  {
   "cell_type": "markdown",
   "metadata": {},
   "source": [
    "## To think of, but not hand in\n",
    "\n",
    "What kinds of anomalies will this algorithm pick up? What kinds would a shorter \"window\" of anomaly detection, like 100 points around the time in question pick? How might you create an algorithm which does window based averaging? (hint: the window size is small compared to the time series size). \n",
    "\n",
    "Finally think a bit of how you might implement all of this in a production environment..remember that data streaming in might get backed up when you handle an anomaly.\n",
    "\n",
    "(Some inspiration might accrue if you look at the docs for `collections.deque`)."
   ]
  },
  {
   "cell_type": "code",
   "execution_count": null,
   "metadata": {
    "collapsed": true
   },
   "outputs": [],
   "source": []
  }
 ],
 "metadata": {
  "kernelspec": {
   "display_name": "Python 3",
   "language": "python",
   "name": "python3"
  },
  "language_info": {
   "codemirror_mode": {
    "name": "ipython",
    "version": 3
   },
   "file_extension": ".py",
   "mimetype": "text/x-python",
   "name": "python",
   "nbconvert_exporter": "python",
   "pygments_lexer": "ipython3",
   "version": "3.5.1"
  }
 },
 "nbformat": 4,
 "nbformat_minor": 0
}
